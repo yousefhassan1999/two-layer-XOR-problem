{
  "nbformat": 4,
  "nbformat_minor": 0,
  "metadata": {
    "colab": {
      "name": "Sheet 6 PR.ipynb",
      "provenance": [],
      "collapsed_sections": [],
      "authorship_tag": "ABX9TyMhr7jgbp5WaCui4SvmPszX",
      "include_colab_link": true
    },
    "kernelspec": {
      "name": "python3",
      "display_name": "Python 3"
    },
    "language_info": {
      "name": "python"
    }
  },
  "cells": [
    {
      "cell_type": "markdown",
      "metadata": {
        "id": "view-in-github",
        "colab_type": "text"
      },
      "source": [
        "<a href=\"https://colab.research.google.com/github/yousefhassan1999/two-layer-XOR-problem/blob/main/Backpropagation.ipynb\" target=\"_parent\"><img src=\"https://colab.research.google.com/assets/colab-badge.svg\" alt=\"Open In Colab\"/></a>"
      ]
    },
    {
      "cell_type": "code",
      "execution_count": null,
      "metadata": {
        "id": "5X3ohZ8CMHr6"
      },
      "outputs": [],
      "source": [
        "import numpy as np\n",
        "import matplotlib.pyplot as plt\n",
        "inputs = np.array([[0,0],[0,1],[1,0],[1,1]])\n",
        "expected_output = np.array([[0],[1],[1],[0]])"
      ]
    },
    {
      "cell_type": "markdown",
      "source": [
        "ReLU Activation Function"
      ],
      "metadata": {
        "id": "RTQVXbdyx2dV"
      }
    },
    {
      "cell_type": "code",
      "source": [
        "def ReLU(value):\n",
        "  return max(0,value)"
      ],
      "metadata": {
        "id": "t0Hk34DQxw7s"
      },
      "execution_count": null,
      "outputs": []
    },
    {
      "cell_type": "markdown",
      "source": [
        "Step 1: To initialize the weights and biases with random values"
      ],
      "metadata": {
        "id": "hfa5ELQFMaO8"
      }
    },
    {
      "cell_type": "code",
      "source": [
        "inputLayerNeurons, hiddenLayerNeurons, outputLayerNeurons = 2,2,1 \n",
        "hidden_weights = np.random.uniform(size=(inputLayerNeurons,hiddenLayerNeurons))\n",
        "hidden_bias =np.random.uniform(size=(1,hiddenLayerNeurons))\n",
        "output_weights = np.random.uniform(size=(hiddenLayerNeurons,outputLayerNeurons))\n",
        "output_bias = np.random.uniform(size=(1,outputLayerNeurons))"
      ],
      "metadata": {
        "id": "J8FTQG8uMbgG"
      },
      "execution_count": null,
      "outputs": []
    },
    {
      "cell_type": "markdown",
      "source": [
        "\n",
        "The forward pass involves compute the predicted output\n"
      ],
      "metadata": {
        "id": "v7-RWXzs0wg9"
      }
    },
    {
      "cell_type": "code",
      "source": [
        "def Forwarding_Function (x , Hidden_Layer_activations):\n",
        "  ReLU_output=0;\n",
        "  for N in range(2):\n",
        "    W2J=output_weights[N]\n",
        "    Inside_ReLU=0\n",
        "    b2J=hidden_bias[0][N]\n",
        "    activation_N_Result=0\n",
        "    for I in range(2):\n",
        "      activation_N_Result += hidden_weights[N][I] * x[I]\n",
        "    Inside_ReLU = ReLU(b2J +activation_N_Result)\n",
        "    Hidden_Layer_activations[N]=Inside_ReLU\n",
        "    ReLU_output += W2J*Inside_ReLU + output_bias\n",
        "  return ReLU(ReLU_output)"
      ],
      "metadata": {
        "id": "imdeb45L0vfK"
      },
      "execution_count": null,
      "outputs": []
    },
    {
      "cell_type": "markdown",
      "source": [
        "Loss Functions:"
      ],
      "metadata": {
        "id": "4zK4_Zyb_fiJ"
      }
    },
    {
      "cell_type": "code",
      "source": [
        "def Compute_loss_function():\n",
        "  Result=0\n",
        "  for d in range(D):\n",
        "    det_W1_Squar = np.square(np.linalg.det(hidden_weights))\n",
        "    det_W2_Squar = np.square(np.dot(output_weights.T,output_weights))\n",
        "    det_b2_Squar = np.square(np.dot(hidden_bias,hidden_bias.T))\n",
        "    det_b3_Squar = np.square(output_bias)\n",
        "    Result += np.square(predicted_output_required[d]-expected_output[d]) + lr_required * (det_W1_Squar + det_W2_Squar + det_b2_Squar + det_b3_Squar)\n",
        "  return Result/D\n"
      ],
      "metadata": {
        "id": "vjjlKJ61_hwn"
      },
      "execution_count": null,
      "outputs": []
    },
    {
      "cell_type": "markdown",
      "source": [
        "the derivative of the \n",
        "Relu(t) function"
      ],
      "metadata": {
        "id": "XctXjULvHnI9"
      }
    },
    {
      "cell_type": "code",
      "source": [
        "def derivative_Forwarding_Function(d):\n",
        "  dE_dw2 = (2 * lr_required * output_weights) + (( (2 * (predicted_output_required[d]-expected_output[d])) * hidden_Layer_activations) if predicted_output_required[d]>0 else 0)\n",
        "  dE_db3 = (2 * lr_required * output_bias) + (( 2 * (predicted_output_required[d]-expected_output[d]) ) if predicted_output_required[d]>0 else 0)\n",
        "  dE_dw1 = (2 * lr_required * hidden_weights) + (( 2 * (predicted_output_required[d]-expected_output[d]) * output_weights * inputs[d] ) if predicted_output_required[d]>0 else 0)\n",
        "  dE_db2 = (2 * lr_required * hidden_bias) + (( 2 * (predicted_output_required[d]-expected_output[d]) * output_weights).T if predicted_output_required[d]>0 else 0)\n",
        "  return dE_dw2 , dE_db3 , dE_dw1 , dE_db2"
      ],
      "metadata": {
        "id": "neHk3HLxHoRE"
      },
      "execution_count": null,
      "outputs": []
    },
    {
      "cell_type": "markdown",
      "source": [
        "Gradient Descent:"
      ],
      "metadata": {
        "id": "XK1xAnP0D5Fe"
      }
    },
    {
      "cell_type": "code",
      "source": [
        "epochs = 10\n",
        "losses = []\n",
        "D=4\n",
        "lr_required = 0.5\n",
        "η=0.1\n",
        "\n",
        "for epoch in range(epochs):\n",
        "  predicted_output_required = np.empty((4, 1))\n",
        "  hidden_Layer_activations = np.empty((2, 1)) \n",
        "  for d in range(D):\n",
        "    predicted_output_required[d]=Forwarding_Function(inputs[d] , hidden_Layer_activations)\n",
        "  dE_dw1_list = []\n",
        "  dE_dw2_list = []\n",
        "  dE_db2_list = []\n",
        "  dE_db3_list = []\n",
        "  epoch_loss = np.average(Compute_loss_function())\n",
        "  for d in range(D):\n",
        "    dE_dw2 , dE_db3 , dE_dw1 , dE_db2 = derivative_Forwarding_Function(d)\n",
        "    dE_dw1_list.append(np.array(dE_dw1))\n",
        "    dE_dw2_list.append(np.array(dE_dw2))\n",
        "    dE_db2_list.append(np.array(dE_db2))\n",
        "    dE_db3_list.append(np.array(dE_db3))\n",
        "  #Updating Weights and Biases\n",
        "  output_weights -= (η * sum(dE_dw2_list)) \n",
        "  output_bias -= (η * sum(dE_db3_list))\n",
        "  hidden_weights -= (η * sum(dE_dw1_list))\n",
        "  hidden_bias -= (η * sum(dE_db2_list))\n",
        "  \n",
        "  losses.append(epoch_loss)\n",
        "\n",
        "plt.plot(np.arange(1, epochs + 1), np.array(losses))"
      ],
      "metadata": {
        "colab": {
          "base_uri": "https://localhost:8080/",
          "height": 283
        },
        "id": "L9Gcu5fsz65F",
        "outputId": "3932cc55-88ef-4666-a3b6-dcc747f97670"
      },
      "execution_count": null,
      "outputs": [
        {
          "output_type": "execute_result",
          "data": {
            "text/plain": [
              "[<matplotlib.lines.Line2D at 0x7fa878361090>]"
            ]
          },
          "metadata": {},
          "execution_count": 119
        },
        {
          "output_type": "display_data",
          "data": {
            "text/plain": [
              "<Figure size 432x288 with 1 Axes>"
            ],
            "image/png": "[encoded data removed]"
          },
          "metadata": {
            "needs_background": "light"
          }
        }
      ]
    },
    {
      "cell_type": "markdown",
      "source": [
        ""
      ],
      "metadata": {
        "id": "OmDJLk2-NEFQ"
      }
    }
  ]
}